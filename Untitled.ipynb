{
 "cells": [
  {
   "cell_type": "code",
   "execution_count": 83,
   "metadata": {},
   "outputs": [],
   "source": [
    "import numpy as np\n",
    "import pandas as pd\n",
    "import random\n",
    "import time"
   ]
  },
  {
   "cell_type": "code",
   "execution_count": 84,
   "metadata": {},
   "outputs": [],
   "source": [
    "## Dictionaries for party members, attacks, damage, enemies, and health\n",
    "\n",
    "party = {\n",
    "    'Rogue': ['Stab', 'Steal'],\n",
    "    'Mage': ['Fireball', 'Missile'],\n",
    "    'Beefstick': ['Gun', 'Punch'],\n",
    "    'Stronks': ['Nunchucks', 'Shit!']\n",
    "}\n",
    "\n",
    "attacks = {\n",
    "    'Stab': 2,\n",
    "    'Steal': 0,\n",
    "    'Fireball': 6,\n",
    "    'Missile': 3,\n",
    "    'Gun': 4,\n",
    "    'Punch': 5,\n",
    "    'Nunchucks': 7,\n",
    "    'Shit!': 10,\n",
    "    'Eyeball': 4,\n",
    "    'Glasses': 7,\n",
    "    'literally a gun': 15,\n",
    "    'used napkin': -5,\n",
    "    'Inhale': 3,\n",
    "    'Exhale': 13\n",
    "}\n",
    "\n",
    "enemy = {\n",
    "    'Beholder': ['Eyeball', 'Glasses'],\n",
    "    'Lich': ['literally a gun', 'used napkin'],\n",
    "    'Baby Bunny': ['Inhale', 'Exhale']\n",
    "}\n",
    "\n",
    "health = {\n",
    "    'Rogue': 27,\n",
    "    'Mage': 18,\n",
    "    'Beefstick': 35,\n",
    "    'Stronks': 16,\n",
    "    \n",
    "    'Beholder': 17,\n",
    "    'Lich': 20,\n",
    "    'Baby Bunny': 5\n",
    "}"
   ]
  },
  {
   "cell_type": "code",
   "execution_count": 89,
   "metadata": {},
   "outputs": [
    {
     "data": {
      "text/plain": [
       "[['Lich', 'Baby Bunny']]"
      ]
     },
     "execution_count": 89,
     "metadata": {},
     "output_type": "execute_result"
    }
   ],
   "source": [
    "[random.sample(list(enemy), 2)]"
   ]
  },
  {
   "cell_type": "code",
   "execution_count": 82,
   "metadata": {},
   "outputs": [
    {
     "data": {
      "text/plain": [
       "19"
      ]
     },
     "execution_count": 82,
     "metadata": {},
     "output_type": "execute_result"
    }
   ],
   "source": [
    "health[random.sample(list(enemy), 1)[0]]"
   ]
  },
  {
   "cell_type": "code",
   "execution_count": 73,
   "metadata": {},
   "outputs": [],
   "source": [
    "damage_roll = []\n",
    "for i in party:\n",
    "    damage_roll.append(attacks[random.sample(party[i], 1)[0]])"
   ]
  },
  {
   "cell_type": "code",
   "execution_count": 74,
   "metadata": {},
   "outputs": [
    {
     "data": {
      "text/plain": [
       "[0, 6, 5, 10]"
      ]
     },
     "execution_count": 74,
     "metadata": {},
     "output_type": "execute_result"
    }
   ],
   "source": [
    "damage_roll"
   ]
  },
  {
   "cell_type": "code",
   "execution_count": 57,
   "metadata": {},
   "outputs": [],
   "source": [
    "enemy_hp = 20"
   ]
  },
  {
   "cell_type": "code",
   "execution_count": 91,
   "metadata": {},
   "outputs": [],
   "source": [
    "enemy_list = random.sample(list(enemy), 2)\n",
    "enemy1 = enemy_list[0]\n",
    "enemy2 = enemy_list[1]"
   ]
  },
  {
   "cell_type": "code",
   "execution_count": 93,
   "metadata": {},
   "outputs": [],
   "source": [
    "enemy_hp = {\n",
    "    'enemy1_hp': health[enemy1],\n",
    "    'enemy2_hp': health[enemy2],\n",
    "}"
   ]
  },
  {
   "cell_type": "code",
   "execution_count": 99,
   "metadata": {},
   "outputs": [
    {
     "data": {
      "text/plain": [
       "True"
      ]
     },
     "execution_count": 99,
     "metadata": {},
     "output_type": "execute_result"
    }
   ],
   "source": [
    "(enemy_hp['enemy1_hp'] > 0) & (enemy_hp['enemy2_hp'] > 0)"
   ]
  },
  {
   "cell_type": "code",
   "execution_count": 82,
   "metadata": {},
   "outputs": [
    {
     "name": "stdout",
     "output_type": "stream",
     "text": [
      "Rogue used Stab on Beholder\n",
      "Rogue dealt 2 damage to Beholder\n",
      "The Beholder 's health is now  15\n",
      "Mage used Missile on Lich\n",
      "Mage dealt 3 damage to Lich\n",
      "The Lich 's health is now  17\n",
      "Beefstick used Punch on Lich\n",
      "Beefstick dealt 5 damage to Lich\n",
      "The Lich 's health is now  12\n",
      "Stronks used Nunchucks on Beholder\n",
      "Stronks dealt 7 damage to Beholder\n",
      "The Beholder 's health is now  8\n",
      "Rogue used Steal on Beholder\n",
      "Rogue dealt 0 damage to Beholder\n",
      "The Beholder 's health is now  8\n",
      "Mage used Fireball on Beholder\n",
      "Mage dealt 6 damage to Beholder\n",
      "The Beholder 's health is now  2\n",
      "Beefstick used Punch on Beholder\n",
      "Beefstick dealt 5 damage to Beholder\n",
      "The Beholder 's health is now  -3\n",
      "Stronks used Shit! on Lich\n",
      "Stronks dealt 10 damage to Lich\n",
      "The Lich 's health is now  2\n",
      "Rogue used Steal on Lich\n",
      "Rogue dealt 0 damage to Lich\n",
      "The Lich 's health is now  2\n",
      "Mage used Missile on Lich\n",
      "Mage dealt 3 damage to Lich\n",
      "The Lich 's health is now  -1\n",
      "Beefstick used Punch on Lich\n",
      "Beefstick dealt 5 damage to Lich\n",
      "The Lich 's health is now  -6\n",
      "Stronks used Shit! on Lich\n",
      "Stronks dealt 10 damage to Lich\n",
      "The Lich 's health is now  -16\n",
      "Enemy defeated!\n"
     ]
    }
   ],
   "source": [
    "enemy_list = random.sample(list(enemy), 2)\n",
    "enemy1 = enemy_list[0]\n",
    "enemy2 = enemy_list[1]\n",
    "\n",
    "\n",
    "enemy_hp = {\n",
    "    enemy_list[0]: health[enemy_list[0]],\n",
    "    enemy_list[1]: health[enemy_list[1]],\n",
    "}\n",
    "\n",
    "## Battle Round\n",
    "## Only ends when both enemies are KO'd\n",
    "while (enemy_hp[enemy1] > 0) or (enemy_hp[enemy2] > 0):\n",
    "    \n",
    "    ## Each member attacks in order\n",
    "    for i in party:\n",
    "        \n",
    "        ## Double check Enemy HP so we aren't beating a dead Beholder\n",
    "        #if (enemy_hp[enemy1] > 0) & (enemy_hp[enemy2] > 0):\n",
    "            \n",
    "            ## Attack chosen at random for each party member\n",
    "        attack_round = random.sample(party[i], 1)\n",
    "        if (enemy_hp[enemy1] > 0) & (enemy_hp[enemy2] > 0):\n",
    "            target = random.sample(enemy_list, 1)[0]\n",
    "        elif enemy_hp[enemy1] > 0:\n",
    "            target = enemy1\n",
    "        elif enemy_hp[enemy2] > 0:\n",
    "            target = enemy2\n",
    "        else: pass\n",
    "                # Target = living enemy\n",
    "        print(i, 'used', attack_round[0], 'on', target)\n",
    "        time.sleep(2)\n",
    "            \n",
    "            ## Each call returrns a list, so we need to call the 0th element of each list\n",
    "        damage = attacks[attack_round[0]]\n",
    "        print(i, 'dealt', damage, 'damage to', target)\n",
    "        time.sleep(2)\n",
    "            \n",
    "            ## Deal the damage\n",
    "        enemy_hp[target] -= damage\n",
    "        print(\"The\", target, \"'s health is now \", enemy_hp[target])\n",
    "        time.sleep(2)\n",
    "\n",
    "            \n",
    "print('Enemy defeated!')"
   ]
  },
  {
   "cell_type": "code",
   "execution_count": 106,
   "metadata": {},
   "outputs": [
    {
     "data": {
      "text/plain": [
       "['Lich', 'Baby Bunny']"
      ]
     },
     "execution_count": 106,
     "metadata": {},
     "output_type": "execute_result"
    }
   ],
   "source": [
    "list(enemy_hp)"
   ]
  },
  {
   "cell_type": "code",
   "execution_count": 31,
   "metadata": {},
   "outputs": [],
   "source": []
  },
  {
   "cell_type": "code",
   "execution_count": null,
   "metadata": {},
   "outputs": [],
   "source": []
  },
  {
   "cell_type": "code",
   "execution_count": 137,
   "metadata": {},
   "outputs": [],
   "source": [
    "class character:\n",
    "    \n",
    "    def __init__(self, name, attacks, role, health):\n",
    "        self.name = name\n",
    "        self.role = role\n",
    "        self.health = health\n",
    "        self.attacks = attacks\n",
    "        \n",
    "    def player_atk_round(self):\n",
    "        attack = random.sample(list(self.attacks), 1)[0]\n",
    "        return attack, self.attacks[attack]\n",
    "    \n",
    "class enemy:\n",
    "    \n",
    "    def __init__(self, name, attacks, health):\n",
    "        self.name = name\n",
    "        self.health = health\n",
    "        self.attacks = attacks\n",
    "        \n",
    "    def enemy_atk_round(self):\n",
    "        attack = random.sample(list(self.attacks), 1)[0]\n",
    "        return attack, self.attacks[attack]\n",
    "\n",
    "players = [character('Steve', {'stab': 5, 'slash': 4}, 'Rogue', 6), \n",
    "           character('Jeff', {'fireball': 6, 'sob': 2},'Mage', 12)]\n",
    "\n",
    "\n",
    "enemies = [enemy('Beholder', {'demonic gaze': 12, 'rest': 0}, 13), \n",
    "           enemy('Lich', {'gun': 3, 'pain': 7}, 35)]\n",
    "\n",
    "target = random.sample(enemies, 1)[0]\n"
   ]
  },
  {
   "cell_type": "code",
   "execution_count": 138,
   "metadata": {},
   "outputs": [
    {
     "data": {
      "text/plain": [
       "'Beholder'"
      ]
     },
     "execution_count": 138,
     "metadata": {},
     "output_type": "execute_result"
    }
   ],
   "source": [
    "target.name"
   ]
  },
  {
   "cell_type": "code",
   "execution_count": 114,
   "metadata": {},
   "outputs": [],
   "source": [
    "def fight(name):\n",
    "    target = random.sample([lich, beholder], 1)\n",
    "    attack = name.player_atk_round()\n",
    "    print(name.name, 'used', attack[0], 'on', target.name)\n",
    "    time.sleep(2)\n",
    "    target.health = target.health - attack[1]\n",
    "    print(target.name, \"'s health is now\", target.health)"
   ]
  },
  {
   "cell_type": "code",
   "execution_count": 115,
   "metadata": {},
   "outputs": [
    {
     "ename": "AttributeError",
     "evalue": "'list' object has no attribute 'name'",
     "output_type": "error",
     "traceback": [
      "\u001b[1;31m---------------------------------------------------------------------------\u001b[0m",
      "\u001b[1;31mAttributeError\u001b[0m                            Traceback (most recent call last)",
      "\u001b[1;32m<ipython-input-115-2eda717f72a7>\u001b[0m in \u001b[0;36m<module>\u001b[1;34m\u001b[0m\n\u001b[1;32m----> 1\u001b[1;33m \u001b[0mfight\u001b[0m\u001b[1;33m(\u001b[0m\u001b[0mrogue\u001b[0m\u001b[1;33m)\u001b[0m\u001b[1;33m\u001b[0m\u001b[1;33m\u001b[0m\u001b[0m\n\u001b[0m\u001b[0;32m      2\u001b[0m \u001b[0mfight\u001b[0m\u001b[1;33m(\u001b[0m\u001b[0mmage\u001b[0m\u001b[1;33m)\u001b[0m\u001b[1;33m\u001b[0m\u001b[1;33m\u001b[0m\u001b[0m\n",
      "\u001b[1;32m<ipython-input-114-294a0877ce35>\u001b[0m in \u001b[0;36mfight\u001b[1;34m(name)\u001b[0m\n\u001b[0;32m      2\u001b[0m     \u001b[0mtarget\u001b[0m \u001b[1;33m=\u001b[0m \u001b[0mrandom\u001b[0m\u001b[1;33m.\u001b[0m\u001b[0msample\u001b[0m\u001b[1;33m(\u001b[0m\u001b[1;33m[\u001b[0m\u001b[0mlich\u001b[0m\u001b[1;33m,\u001b[0m \u001b[0mbeholder\u001b[0m\u001b[1;33m]\u001b[0m\u001b[1;33m,\u001b[0m \u001b[1;36m1\u001b[0m\u001b[1;33m)\u001b[0m\u001b[1;33m\u001b[0m\u001b[1;33m\u001b[0m\u001b[0m\n\u001b[0;32m      3\u001b[0m     \u001b[0mattack\u001b[0m \u001b[1;33m=\u001b[0m \u001b[0mname\u001b[0m\u001b[1;33m.\u001b[0m\u001b[0mplayer_atk_round\u001b[0m\u001b[1;33m(\u001b[0m\u001b[1;33m)\u001b[0m\u001b[1;33m\u001b[0m\u001b[1;33m\u001b[0m\u001b[0m\n\u001b[1;32m----> 4\u001b[1;33m     \u001b[0mprint\u001b[0m\u001b[1;33m(\u001b[0m\u001b[0mname\u001b[0m\u001b[1;33m.\u001b[0m\u001b[0mname\u001b[0m\u001b[1;33m,\u001b[0m \u001b[1;34m'used'\u001b[0m\u001b[1;33m,\u001b[0m \u001b[0mattack\u001b[0m\u001b[1;33m[\u001b[0m\u001b[1;36m0\u001b[0m\u001b[1;33m]\u001b[0m\u001b[1;33m,\u001b[0m \u001b[1;34m'on'\u001b[0m\u001b[1;33m,\u001b[0m \u001b[0mtarget\u001b[0m\u001b[1;33m.\u001b[0m\u001b[0mname\u001b[0m\u001b[1;33m)\u001b[0m\u001b[1;33m\u001b[0m\u001b[1;33m\u001b[0m\u001b[0m\n\u001b[0m\u001b[0;32m      5\u001b[0m     \u001b[0mtime\u001b[0m\u001b[1;33m.\u001b[0m\u001b[0msleep\u001b[0m\u001b[1;33m(\u001b[0m\u001b[1;36m2\u001b[0m\u001b[1;33m)\u001b[0m\u001b[1;33m\u001b[0m\u001b[1;33m\u001b[0m\u001b[0m\n\u001b[0;32m      6\u001b[0m     \u001b[0mtarget\u001b[0m\u001b[1;33m.\u001b[0m\u001b[0mhealth\u001b[0m \u001b[1;33m=\u001b[0m \u001b[0mtarget\u001b[0m\u001b[1;33m.\u001b[0m\u001b[0mhealth\u001b[0m \u001b[1;33m-\u001b[0m \u001b[0mattack\u001b[0m\u001b[1;33m[\u001b[0m\u001b[1;36m1\u001b[0m\u001b[1;33m]\u001b[0m\u001b[1;33m\u001b[0m\u001b[1;33m\u001b[0m\u001b[0m\n",
      "\u001b[1;31mAttributeError\u001b[0m: 'list' object has no attribute 'name'"
     ]
    }
   ],
   "source": [
    "fight(rogue)\n",
    "fight(mage)"
   ]
  },
  {
   "cell_type": "code",
   "execution_count": 104,
   "metadata": {},
   "outputs": [
    {
     "data": {
      "text/plain": [
       "__main__.enemy"
      ]
     },
     "execution_count": 104,
     "metadata": {},
     "output_type": "execute_result"
    }
   ],
   "source": []
  },
  {
   "cell_type": "code",
   "execution_count": null,
   "metadata": {},
   "outputs": [],
   "source": []
  }
 ],
 "metadata": {
  "kernelspec": {
   "display_name": "Python 3",
   "language": "python",
   "name": "python3"
  },
  "language_info": {
   "codemirror_mode": {
    "name": "ipython",
    "version": 3
   },
   "file_extension": ".py",
   "mimetype": "text/x-python",
   "name": "python",
   "nbconvert_exporter": "python",
   "pygments_lexer": "ipython3",
   "version": "3.8.3"
  }
 },
 "nbformat": 4,
 "nbformat_minor": 4
}
